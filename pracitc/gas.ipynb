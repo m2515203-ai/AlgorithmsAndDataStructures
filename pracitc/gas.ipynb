{
 "cells": [
  {
   "cell_type": "code",
   "id": "initial_id",
   "metadata": {
    "collapsed": true,
    "ExecuteTime": {
     "end_time": "2025-10-11T11:55:53.258687Z",
     "start_time": "2025-10-11T11:55:53.035563Z"
    }
   },
   "source": [
    "import pandas as pd\n",
    "\n",
    "df_zap = pd.read_csv('zap_data_22.csv')\n",
    "df_calib = pd.read_csv('calib.csv')\n",
    "\n",
    "print(df_zap)\n",
    "print(df_calib)"
   ],
   "outputs": [
    {
     "name": "stdout",
     "output_type": "stream",
     "text": [
      "              lat        lon   timestamp  speed  voltage  \\\n",
      "0             NaN        NaN  1704056413    NaN    25.20   \n",
      "1             NaN        NaN  1704056636    NaN    25.20   \n",
      "2             NaN        NaN  1704056661    NaN    25.20   \n",
      "3             NaN        NaN  1704056751    NaN    25.20   \n",
      "4             NaN        NaN  1704056727    NaN    25.20   \n",
      "...           ...        ...         ...    ...      ...   \n",
      "161529  56.070923  37.123569  1735678101    0.0    25.35   \n",
      "161530  56.070923  37.123569  1735678251    0.0    25.35   \n",
      "161531  56.070923  37.123569  1735678401    0.0    25.35   \n",
      "161532  56.070923  37.123569  1735678551    0.0    25.35   \n",
      "161533  56.070923  37.123569  1735678700    0.0    25.35   \n",
      "\n",
      "                                                 can_data  \n",
      "0                        {\"LLS_0\": 1477, \"xLLS_71\": 1477}  \n",
      "1                        {\"LLS_0\": 1477, \"xLLS_71\": 1477}  \n",
      "2                        {\"LLS_0\": 1477, \"xLLS_71\": 1477}  \n",
      "3                        {\"LLS_0\": 1477, \"xLLS_71\": 1477}  \n",
      "4                        {\"LLS_0\": 1477, \"xLLS_71\": 1477}  \n",
      "...                                                   ...  \n",
      "161529  {\"3\": 56.0709228515625, \"4\": 37.12356948852539...  \n",
      "161530  {\"3\": 56.0709228515625, \"4\": 37.12356948852539...  \n",
      "161531  {\"3\": 56.0709228515625, \"4\": 37.12356948852539...  \n",
      "161532  {\"3\": 56.0709228515625, \"4\": 37.12356948852539...  \n",
      "161533  {\"3\": 56.0709228515625, \"4\": 37.12356948852539...  \n",
      "\n",
      "[161534 rows x 6 columns]\n",
      "    id  deviceid_port                                   calibrating_data\n",
      "0  450              2  [{\"input_value\": 500, \"output_value\": 0}, {\"in...\n",
      "1  537              3  [{\"input_value\": 1, \"output_value\": 0}, {\"inpu...\n"
     ]
    }
   ],
   "execution_count": 138
  },
  {
   "metadata": {
    "ExecuteTime": {
     "end_time": "2025-10-11T11:55:54.044976Z",
     "start_time": "2025-10-11T11:55:53.264879Z"
    }
   },
   "cell_type": "code",
   "source": [
    "import json\n",
    "\n",
    "# Сначала преобразуем строковые представления словарей в реальные словари Python\n",
    "df_zap['data'] = df_zap['can_data'].apply(lambda x: json.loads(x))\n",
    "\n",
    "# Теперь создаем новый столбец LLS, извлекая значение LLS_0\n",
    "df_zap['LLS'] = df_zap['data'].apply(lambda x: x.get('LLS_0'))\n",
    "\n",
    "# Если нужно, можно удалить промежуточный столбец data\n",
    "df_zap.drop(columns=['data'], inplace=True)\n",
    "df_zap.drop(columns=['can_data'], inplace=True)\n",
    "\n",
    "\n",
    "df_zap['date'] = pd.to_datetime(df_zap['timestamp'], unit='s')\n",
    "df_zap.drop(columns=['timestamp'], inplace=True)\n",
    "\n",
    "print(df_zap)\n",
    "print(df_zap.describe())\n",
    "\n"
   ],
   "id": "900400ddf8c8bc73",
   "outputs": [
    {
     "name": "stdout",
     "output_type": "stream",
     "text": [
      "              lat        lon  speed  voltage     LLS                date\n",
      "0             NaN        NaN    NaN    25.20  1477.0 2023-12-31 21:00:13\n",
      "1             NaN        NaN    NaN    25.20  1477.0 2023-12-31 21:03:56\n",
      "2             NaN        NaN    NaN    25.20  1477.0 2023-12-31 21:04:21\n",
      "3             NaN        NaN    NaN    25.20  1477.0 2023-12-31 21:05:51\n",
      "4             NaN        NaN    NaN    25.20  1477.0 2023-12-31 21:05:27\n",
      "...           ...        ...    ...      ...     ...                 ...\n",
      "161529  56.070923  37.123569    0.0    25.35  3345.0 2024-12-31 20:48:21\n",
      "161530  56.070923  37.123569    0.0    25.35  3345.0 2024-12-31 20:50:51\n",
      "161531  56.070923  37.123569    0.0    25.35  3345.0 2024-12-31 20:53:21\n",
      "161532  56.070923  37.123569    0.0    25.35  3345.0 2024-12-31 20:55:51\n",
      "161533  56.070923  37.123569    0.0    25.35  3345.0 2024-12-31 20:58:20\n",
      "\n",
      "[161534 rows x 6 columns]\n",
      "                 lat            lon          speed        voltage  \\\n",
      "count  158768.000000  158768.000000  158768.000000  161267.000000   \n",
      "mean       56.071314      37.118455       0.049147      24.432740   \n",
      "min        56.057796      37.105957       0.000000       0.000000   \n",
      "25%        56.071079      37.116344       0.000000      25.350000   \n",
      "50%        56.071312      37.116581       0.000000      25.800000   \n",
      "75%        56.071550      37.122860       0.000000      27.300000   \n",
      "max        56.076244      37.131790      11.000000      35.700000   \n",
      "std         0.000493       0.003427       0.348707       6.622768   \n",
      "\n",
      "                 LLS                           date  \n",
      "count  120613.000000                         161534  \n",
      "mean     2166.319883  2024-07-12 05:43:29.664603136  \n",
      "min         0.000000            2023-12-31 21:00:13  \n",
      "25%      1401.000000  2024-04-11 16:11:07.249999872  \n",
      "50%      2090.000000            2024-07-04 08:04:47  \n",
      "75%      2983.000000     2024-10-31 17:04:57.500000  \n",
      "max     65535.000000            2024-12-31 20:58:20  \n",
      "std      1086.216903                            NaN  \n"
     ]
    }
   ],
   "execution_count": 139
  },
  {
   "metadata": {
    "ExecuteTime": {
     "end_time": "2025-10-11T11:55:54.084716Z",
     "start_time": "2025-10-11T11:55:54.050533Z"
    }
   },
   "cell_type": "code",
   "source": [
    "\n",
    "df_cleaned = df_zap.dropna()\n",
    "print(\"После удаления строк с NaN:\")\n",
    "print(df_cleaned)\n",
    "print(df_cleaned.describe())"
   ],
   "id": "2e5836f5186ff0a7",
   "outputs": [
    {
     "name": "stdout",
     "output_type": "stream",
     "text": [
      "После удаления строк с NaN:\n",
      "              lat        lon  speed  voltage     LLS                date\n",
      "117     56.071346  37.116501    0.0    25.05  1477.0 2023-12-31 23:02:21\n",
      "118     56.071346  37.116501    0.0    25.05  1477.0 2023-12-31 23:00:31\n",
      "123     56.071346  37.116501    0.0    25.05  1477.0 2023-12-31 23:02:21\n",
      "124     56.071346  37.116501    0.0    25.05  1477.0 2023-12-31 23:00:31\n",
      "128     56.071346  37.116501    0.0    25.05  1477.0 2023-12-31 23:00:31\n",
      "...           ...        ...    ...      ...     ...                 ...\n",
      "161529  56.070923  37.123569    0.0    25.35  3345.0 2024-12-31 20:48:21\n",
      "161530  56.070923  37.123569    0.0    25.35  3345.0 2024-12-31 20:50:51\n",
      "161531  56.070923  37.123569    0.0    25.35  3345.0 2024-12-31 20:53:21\n",
      "161532  56.070923  37.123569    0.0    25.35  3345.0 2024-12-31 20:55:51\n",
      "161533  56.070923  37.123569    0.0    25.35  3345.0 2024-12-31 20:58:20\n",
      "\n",
      "[118326 rows x 6 columns]\n",
      "                 lat            lon          speed        voltage  \\\n",
      "count  118326.000000  118326.000000  118326.000000  118326.000000   \n",
      "mean       56.071339      37.118084       0.042856      25.972191   \n",
      "min        56.068977      37.105957       0.000000       0.000000   \n",
      "25%        56.071201      37.116314       0.000000      25.350000   \n",
      "50%        56.071331      37.116554       0.000000      25.650000   \n",
      "75%        56.071583      37.121460       0.000000      27.300000   \n",
      "max        56.076244      37.127850      11.000000      35.700000   \n",
      "std         0.000362       0.003145       0.328795       1.990989   \n",
      "\n",
      "                 LLS                           date  \n",
      "count  118326.000000                         118326  \n",
      "mean     2176.142496  2024-06-22 16:57:35.643730176  \n",
      "min         0.000000            2023-12-31 23:00:31  \n",
      "25%      1414.000000  2024-03-02 01:21:58.249999872  \n",
      "50%      2102.000000            2024-06-08 13:38:21  \n",
      "75%      2994.000000     2024-10-22 04:11:00.500000  \n",
      "max     65535.000000            2024-12-31 20:58:20  \n",
      "std      1091.656569                            NaN  \n"
     ]
    }
   ],
   "execution_count": 140
  },
  {
   "metadata": {
    "ExecuteTime": {
     "end_time": "2025-10-11T11:55:54.100162Z",
     "start_time": "2025-10-11T11:55:54.091425Z"
    }
   },
   "cell_type": "code",
   "source": [
    "import datetime\n",
    "\n",
    "print(df_cleaned[df_cleaned['date'] > datetime.datetime(2024, 10, 1)])"
   ],
   "id": "ebf7ca0c91e639ca",
   "outputs": [
    {
     "name": "stdout",
     "output_type": "stream",
     "text": [
      "              lat        lon  speed  voltage     LLS                date\n",
      "105874  56.071388  37.116543    0.0    27.60  1113.0 2024-10-03 06:20:32\n",
      "105875  56.071388  37.116543    0.0    27.75  1110.0 2024-10-03 06:23:01\n",
      "105876  56.071388  37.116543    0.0    27.75  1123.0 2024-10-03 06:25:31\n",
      "105877  56.071388  37.116543    0.0    27.75  1121.0 2024-10-03 06:28:01\n",
      "105878  56.071388  37.116543    0.0    27.75  1120.0 2024-10-03 06:29:10\n",
      "...           ...        ...    ...      ...     ...                 ...\n",
      "161529  56.070923  37.123569    0.0    25.35  3345.0 2024-12-31 20:48:21\n",
      "161530  56.070923  37.123569    0.0    25.35  3345.0 2024-12-31 20:50:51\n",
      "161531  56.070923  37.123569    0.0    25.35  3345.0 2024-12-31 20:53:21\n",
      "161532  56.070923  37.123569    0.0    25.35  3345.0 2024-12-31 20:55:51\n",
      "161533  56.070923  37.123569    0.0    25.35  3345.0 2024-12-31 20:58:20\n",
      "\n",
      "[33813 rows x 6 columns]\n"
     ]
    }
   ],
   "execution_count": 141
  },
  {
   "metadata": {
    "ExecuteTime": {
     "end_time": "2025-10-11T11:55:54.198450Z",
     "start_time": "2025-10-11T11:55:54.109714Z"
    }
   },
   "cell_type": "code",
   "source": [
    "import matplotlib.pyplot as plt\n",
    "\n",
    "for i in range(1, 12):\n",
    "    cur_month_df = df_cleaned[df_cleaned['date'].dt.month == i]\n",
    "    speed = cur_month_df['speed']\n",
    "    lls = cur_month_df['LLS']\n",
    "    time = cur_month_df['date'].dt.strftime(\"%d\")\n",
    "\n",
    "\n",
    "    plt.plot(time, speed, color='green', marker='o', markersize=7)\n",
    "    plt.xlabel('time')  #Подпись для оси х\n",
    "    plt.ylabel('speed')  #Подпись для оси y\n",
    "    plt.show()\n"
   ],
   "id": "7aa00860b4f9127c",
   "outputs": [
    {
     "ename": "KeyError",
     "evalue": "'speed'",
     "output_type": "error",
     "traceback": [
      "\u001B[31m---------------------------------------------------------------------------\u001B[39m",
      "\u001B[31mKeyError\u001B[39m                                  Traceback (most recent call last)",
      "\u001B[36mFile \u001B[39m\u001B[32m~\\PycharmProjects\\DataIngeeneringPronkin\\.venv\\Lib\\site-packages\\pandas\\core\\indexes\\base.py:3812\u001B[39m, in \u001B[36mIndex.get_loc\u001B[39m\u001B[34m(self, key)\u001B[39m\n\u001B[32m   3811\u001B[39m \u001B[38;5;28;01mtry\u001B[39;00m:\n\u001B[32m-> \u001B[39m\u001B[32m3812\u001B[39m     \u001B[38;5;28;01mreturn\u001B[39;00m \u001B[38;5;28;43mself\u001B[39;49m\u001B[43m.\u001B[49m\u001B[43m_engine\u001B[49m\u001B[43m.\u001B[49m\u001B[43mget_loc\u001B[49m\u001B[43m(\u001B[49m\u001B[43mcasted_key\u001B[49m\u001B[43m)\u001B[49m\n\u001B[32m   3813\u001B[39m \u001B[38;5;28;01mexcept\u001B[39;00m \u001B[38;5;167;01mKeyError\u001B[39;00m \u001B[38;5;28;01mas\u001B[39;00m err:\n",
      "\u001B[36mFile \u001B[39m\u001B[32mpandas/_libs/index.pyx:167\u001B[39m, in \u001B[36mpandas._libs.index.IndexEngine.get_loc\u001B[39m\u001B[34m()\u001B[39m\n",
      "\u001B[36mFile \u001B[39m\u001B[32mpandas/_libs/index.pyx:175\u001B[39m, in \u001B[36mpandas._libs.index.IndexEngine.get_loc\u001B[39m\u001B[34m()\u001B[39m\n",
      "\u001B[36mFile \u001B[39m\u001B[32mpandas/_libs/index_class_helper.pxi:70\u001B[39m, in \u001B[36mpandas._libs.index.Int64Engine._check_type\u001B[39m\u001B[34m()\u001B[39m\n",
      "\u001B[31mKeyError\u001B[39m: 'speed'",
      "\nThe above exception was the direct cause of the following exception:\n",
      "\u001B[31mKeyError\u001B[39m                                  Traceback (most recent call last)",
      "\u001B[36mCell\u001B[39m\u001B[36m \u001B[39m\u001B[32mIn[142]\u001B[39m\u001B[32m, line 5\u001B[39m\n\u001B[32m      1\u001B[39m \u001B[38;5;28;01mimport\u001B[39;00m\u001B[38;5;250m \u001B[39m\u001B[34;01mmatplotlib\u001B[39;00m\u001B[34;01m.\u001B[39;00m\u001B[34;01mpyplot\u001B[39;00m\u001B[38;5;250m \u001B[39m\u001B[38;5;28;01mas\u001B[39;00m\u001B[38;5;250m \u001B[39m\u001B[34;01mplt\u001B[39;00m\n\u001B[32m      4\u001B[39m cur_month_df = df_cleaned[\u001B[33m'\u001B[39m\u001B[33mdate\u001B[39m\u001B[33m'\u001B[39m].dt.day\n\u001B[32m----> \u001B[39m\u001B[32m5\u001B[39m speed = \u001B[43mcur_month_df\u001B[49m\u001B[43m[\u001B[49m\u001B[33;43m'\u001B[39;49m\u001B[33;43mspeed\u001B[39;49m\u001B[33;43m'\u001B[39;49m\u001B[43m]\u001B[49m\n\u001B[32m      6\u001B[39m lls = cur_month_df[\u001B[33m'\u001B[39m\u001B[33mLLS\u001B[39m\u001B[33m'\u001B[39m]\n\u001B[32m      7\u001B[39m time = cur_month_df[\u001B[33m'\u001B[39m\u001B[33mdate\u001B[39m\u001B[33m'\u001B[39m].dt.strftime(\u001B[33m\"\u001B[39m\u001B[38;5;132;01m%d\u001B[39;00m\u001B[33m\"\u001B[39m)\n",
      "\u001B[36mFile \u001B[39m\u001B[32m~\\PycharmProjects\\DataIngeeneringPronkin\\.venv\\Lib\\site-packages\\pandas\\core\\series.py:1133\u001B[39m, in \u001B[36mSeries.__getitem__\u001B[39m\u001B[34m(self, key)\u001B[39m\n\u001B[32m   1130\u001B[39m     \u001B[38;5;28;01mreturn\u001B[39;00m \u001B[38;5;28mself\u001B[39m._values[key]\n\u001B[32m   1132\u001B[39m \u001B[38;5;28;01melif\u001B[39;00m key_is_scalar:\n\u001B[32m-> \u001B[39m\u001B[32m1133\u001B[39m     \u001B[38;5;28;01mreturn\u001B[39;00m \u001B[38;5;28;43mself\u001B[39;49m\u001B[43m.\u001B[49m\u001B[43m_get_value\u001B[49m\u001B[43m(\u001B[49m\u001B[43mkey\u001B[49m\u001B[43m)\u001B[49m\n\u001B[32m   1135\u001B[39m \u001B[38;5;66;03m# Convert generator to list before going through hashable part\u001B[39;00m\n\u001B[32m   1136\u001B[39m \u001B[38;5;66;03m# (We will iterate through the generator there to check for slices)\u001B[39;00m\n\u001B[32m   1137\u001B[39m \u001B[38;5;28;01mif\u001B[39;00m is_iterator(key):\n",
      "\u001B[36mFile \u001B[39m\u001B[32m~\\PycharmProjects\\DataIngeeneringPronkin\\.venv\\Lib\\site-packages\\pandas\\core\\series.py:1249\u001B[39m, in \u001B[36mSeries._get_value\u001B[39m\u001B[34m(self, label, takeable)\u001B[39m\n\u001B[32m   1246\u001B[39m     \u001B[38;5;28;01mreturn\u001B[39;00m \u001B[38;5;28mself\u001B[39m._values[label]\n\u001B[32m   1248\u001B[39m \u001B[38;5;66;03m# Similar to Index.get_value, but we do not fall back to positional\u001B[39;00m\n\u001B[32m-> \u001B[39m\u001B[32m1249\u001B[39m loc = \u001B[38;5;28;43mself\u001B[39;49m\u001B[43m.\u001B[49m\u001B[43mindex\u001B[49m\u001B[43m.\u001B[49m\u001B[43mget_loc\u001B[49m\u001B[43m(\u001B[49m\u001B[43mlabel\u001B[49m\u001B[43m)\u001B[49m\n\u001B[32m   1251\u001B[39m \u001B[38;5;28;01mif\u001B[39;00m is_integer(loc):\n\u001B[32m   1252\u001B[39m     \u001B[38;5;28;01mreturn\u001B[39;00m \u001B[38;5;28mself\u001B[39m._values[loc]\n",
      "\u001B[36mFile \u001B[39m\u001B[32m~\\PycharmProjects\\DataIngeeneringPronkin\\.venv\\Lib\\site-packages\\pandas\\core\\indexes\\base.py:3819\u001B[39m, in \u001B[36mIndex.get_loc\u001B[39m\u001B[34m(self, key)\u001B[39m\n\u001B[32m   3814\u001B[39m     \u001B[38;5;28;01mif\u001B[39;00m \u001B[38;5;28misinstance\u001B[39m(casted_key, \u001B[38;5;28mslice\u001B[39m) \u001B[38;5;129;01mor\u001B[39;00m (\n\u001B[32m   3815\u001B[39m         \u001B[38;5;28misinstance\u001B[39m(casted_key, abc.Iterable)\n\u001B[32m   3816\u001B[39m         \u001B[38;5;129;01mand\u001B[39;00m \u001B[38;5;28many\u001B[39m(\u001B[38;5;28misinstance\u001B[39m(x, \u001B[38;5;28mslice\u001B[39m) \u001B[38;5;28;01mfor\u001B[39;00m x \u001B[38;5;129;01min\u001B[39;00m casted_key)\n\u001B[32m   3817\u001B[39m     ):\n\u001B[32m   3818\u001B[39m         \u001B[38;5;28;01mraise\u001B[39;00m InvalidIndexError(key)\n\u001B[32m-> \u001B[39m\u001B[32m3819\u001B[39m     \u001B[38;5;28;01mraise\u001B[39;00m \u001B[38;5;167;01mKeyError\u001B[39;00m(key) \u001B[38;5;28;01mfrom\u001B[39;00m\u001B[38;5;250m \u001B[39m\u001B[34;01merr\u001B[39;00m\n\u001B[32m   3820\u001B[39m \u001B[38;5;28;01mexcept\u001B[39;00m \u001B[38;5;167;01mTypeError\u001B[39;00m:\n\u001B[32m   3821\u001B[39m     \u001B[38;5;66;03m# If we have a listlike key, _check_indexing_error will raise\u001B[39;00m\n\u001B[32m   3822\u001B[39m     \u001B[38;5;66;03m#  InvalidIndexError. Otherwise we fall through and re-raise\u001B[39;00m\n\u001B[32m   3823\u001B[39m     \u001B[38;5;66;03m#  the TypeError.\u001B[39;00m\n\u001B[32m   3824\u001B[39m     \u001B[38;5;28mself\u001B[39m._check_indexing_error(key)\n",
      "\u001B[31mKeyError\u001B[39m: 'speed'"
     ]
    }
   ],
   "execution_count": 142
  }
 ],
 "metadata": {
  "kernelspec": {
   "display_name": "Python 3",
   "language": "python",
   "name": "python3"
  },
  "language_info": {
   "codemirror_mode": {
    "name": "ipython",
    "version": 2
   },
   "file_extension": ".py",
   "mimetype": "text/x-python",
   "name": "python",
   "nbconvert_exporter": "python",
   "pygments_lexer": "ipython2",
   "version": "2.7.6"
  }
 },
 "nbformat": 4,
 "nbformat_minor": 5
}
